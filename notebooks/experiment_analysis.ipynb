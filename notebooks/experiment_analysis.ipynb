{
 "cells": [
  {
   "cell_type": "code",
   "execution_count": null,
   "id": "aaf36ebf",
   "metadata": {},
   "outputs": [],
   "source": [
    "# Analysis of the output of experiments"
   ]
  },
  {
   "cell_type": "code",
   "execution_count": null,
   "id": "0a073067",
   "metadata": {},
   "outputs": [],
   "source": [
    "%load_ext autoreload\n",
    "%autoreload 2"
   ]
  },
  {
   "cell_type": "code",
   "execution_count": null,
   "id": "bb9d9d22",
   "metadata": {},
   "outputs": [],
   "source": [
    "import datetime\n",
    "import os\n",
    "import pathlib\n",
    "\n",
    "import pandas as pd\n",
    "import altair as alt\n",
    "import numpy as np\n",
    "\n",
    "import plotly.express as px\n",
    "\n",
    "alt.data_transformers.disable_max_rows()\n",
    "\n",
    "# from psp.data. import C, trim_pv, filter_rows, get_max_power_for_time_of_day\n",
    "\n",
    "\n",
    "def _(df, *args, **kwargs):\n",
    "    print(len(df))\n",
    "    display(df.head(*args, **kwargs))"
   ]
  },
  {
   "cell_type": "code",
   "execution_count": null,
   "id": "06c7bd98",
   "metadata": {},
   "outputs": [],
   "source": [
    "# It's always annoying to set the working directory: we use an environment variable defined in the Makefile.\n",
    "CWD = os.environ.get(\"CWD\")\n",
    "if CWD:\n",
    "    os.chdir(CWD)"
   ]
  },
  {
   "cell_type": "code",
   "execution_count": null,
   "id": "da513a6a",
   "metadata": {},
   "outputs": [],
   "source": [
    "%pwd"
   ]
  },
  {
   "cell_type": "code",
   "execution_count": null,
   "id": "4a3dc34d",
   "metadata": {},
   "outputs": [],
   "source": [
    "inferred_meta = pd.read_csv(\"data/meta_inferred.csv\").set_index(\"ss_id\")\n",
    "_(inferred_meta)"
   ]
  },
  {
   "cell_type": "code",
   "execution_count": null,
   "id": "05e92615",
   "metadata": {
    "scrolled": false
   },
   "outputs": [],
   "source": [
    "df = pd.read_csv(\"exp_results/patate/errors.csv\")\n",
    "df[\"ts\"] = pd.to_datetime(df[\"ts\"])\n",
    "df = df[df[\"metric\"] == \"mae\"]\n",
    "df = df.join(inferred_meta[[\"factor\"]], on=\"pv_id\")\n",
    "df = df.rename(columns={\"factor\": \"capacity\"})\n",
    "df[\"pred_ts\"] = df[\"ts\"] + df[\"future\"].map(lambda x: pd.Timedelta(minutes=x))\n",
    "df[\"weighted_error\"] = df[\"capacity\"] * df[\"error\"]\n",
    "df[\"ts_hour\"] = df[\"ts\"].dt.hour.astype(str) + \":\" + df[\"ts\"].dt.minute.astype(str)\n",
    "df[\"future\"] = df[\"future\"] / 60.0\n",
    "df = df[~df[\"error\"].isnull()]\n",
    "_(df)"
   ]
  },
  {
   "cell_type": "code",
   "execution_count": null,
   "id": "82d042cc",
   "metadata": {
    "scrolled": false
   },
   "outputs": [],
   "source": [
    "chart = (\n",
    "    alt.Chart(df)\n",
    "    .mark_line()\n",
    "    .encode(\n",
    "        x=alt.X(\"hoursminutes(pred_ts)\", title=\"Time *at prediction*\"),\n",
    "        y=alt.Y(\"mean(weighted_error):Q\", title=\"Error\"),\n",
    "        color=alt.Color(\n",
    "            \"future:O\", scale=alt.Scale(reverse=True), title=\"Future (hours)\"\n",
    "        ),\n",
    "        # row=alt.Row('ts_hour:N'),\n",
    "        # column=alt.Column('metric'),\n",
    "    )\n",
    "    .properties(\n",
    "        height=300,\n",
    "        width=600,\n",
    "    )\n",
    ")\n",
    "chart"
   ]
  }
 ],
 "metadata": {
  "kernelspec": {
   "display_name": "Python 3 (ipykernel)",
   "language": "python",
   "name": "python3"
  },
  "language_info": {
   "codemirror_mode": {
    "name": "ipython",
    "version": 3
   },
   "file_extension": ".py",
   "mimetype": "text/x-python",
   "name": "python",
   "nbconvert_exporter": "python",
   "pygments_lexer": "ipython3",
   "version": "3.10.8"
  }
 },
 "nbformat": 4,
 "nbformat_minor": 5
}
