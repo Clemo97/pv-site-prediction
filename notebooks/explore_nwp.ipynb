{
 "cells": [
  {
   "cell_type": "code",
   "execution_count": null,
   "id": "083c6e78",
   "metadata": {},
   "outputs": [],
   "source": [
    "%load_ext autoreload\n",
    "%autoreload 2"
   ]
  },
  {
   "cell_type": "code",
   "execution_count": null,
   "id": "552a0726",
   "metadata": {},
   "outputs": [],
   "source": [
    "import xarray as xr\n",
    "import altair as alt\n",
    "\n",
    "alt.data_transformers.disable_max_rows()\n",
    "\n",
    "import pandas as pd\n",
    "\n",
    "from google.cloud import storage"
   ]
  },
  {
   "cell_type": "code",
   "execution_count": null,
   "id": "91975b2e",
   "metadata": {},
   "outputs": [],
   "source": [
    "def _(df, *args, **kwargs):\n",
    "    print(len(df))\n",
    "    display(df.head(*args, **kwargs))"
   ]
  },
  {
   "cell_type": "code",
   "execution_count": null,
   "id": "6637a6b6",
   "metadata": {},
   "outputs": [],
   "source": [
    "storage_client = storage.Client()"
   ]
  },
  {
   "cell_type": "code",
   "execution_count": null,
   "id": "c3fd66b3",
   "metadata": {},
   "outputs": [],
   "source": [
    "file = \"solar-pv-nowcasting-data/NWP/UK_Met_Office/UKV_intermediate_version_3.zarr\""
   ]
  },
  {
   "cell_type": "code",
   "execution_count": null,
   "id": "3964b032",
   "metadata": {
    "scrolled": false
   },
   "outputs": [],
   "source": [
    "nwp = xr.open_dataset(\n",
    "    f\"gcs://{file}\",\n",
    "    engine=\"zarr\",\n",
    "    consolidated=True,\n",
    "    mode=\"r\",\n",
    "    chunks=\"auto\",\n",
    ")"
   ]
  },
  {
   "cell_type": "code",
   "execution_count": null,
   "id": "ac982288",
   "metadata": {},
   "outputs": [],
   "source": [
    "nwp"
   ]
  },
  {
   "cell_type": "code",
   "execution_count": null,
   "id": "88a15504",
   "metadata": {
    "scrolled": false
   },
   "outputs": [],
   "source": [
    "nwp.coords[\"init_time\"][:20]"
   ]
  },
  {
   "cell_type": "code",
   "execution_count": null,
   "id": "256c8d02",
   "metadata": {},
   "outputs": [],
   "source": [
    "nwp.coords[\"x\"].size"
   ]
  },
  {
   "cell_type": "code",
   "execution_count": null,
   "id": "5c6cab97",
   "metadata": {
    "scrolled": false
   },
   "outputs": [],
   "source": [
    "# n_x = nwp.coords['x'].size\n",
    "# n_y = nwp.coords['y'].size\n",
    "x = (\n",
    "    nwp.isel(\n",
    "        init_time=0,\n",
    "        step=slice(0, 37, 10),\n",
    "        variable=10,\n",
    "        x=slice(0, 100),\n",
    "        y=slice(0, 100),\n",
    "    )\n",
    "    #     .sel(x=slice(None, None, ),\n",
    "    #          y=slice(None, None, nwp.coords['y'].size // 100))\n",
    "    [\"UKV\"]\n",
    ")\n",
    "x"
   ]
  },
  {
   "cell_type": "code",
   "execution_count": null,
   "id": "321d659e",
   "metadata": {
    "scrolled": false
   },
   "outputs": [],
   "source": [
    "for step in range(x.coords[\"step\"].size):\n",
    "    data = (\n",
    "        x.isel(step=step).to_pandas().stack().reset_index().rename(columns={0: \"value\"})\n",
    "    )\n",
    "    _(data)\n",
    "    display(\n",
    "        alt.Chart(data)\n",
    "        .mark_rect()\n",
    "        .encode(x=\"x:O\", y=\"y:O\", color=\"value:Q\")\n",
    "        .properties(width=300, height=300)\n",
    "    )"
   ]
  },
  {
   "cell_type": "code",
   "execution_count": null,
   "id": "053b1ba8",
   "metadata": {},
   "outputs": [],
   "source": [
    "import pyproj\n",
    "import osgb"
   ]
  },
  {
   "cell_type": "code",
   "execution_count": null,
   "id": "c90c61d0",
   "metadata": {},
   "outputs": [],
   "source": [
    "%%time\n",
    "for _ in range(100):\n",
    "    osgb.grid_to_ll(324231, 432525)"
   ]
  },
  {
   "cell_type": "code",
   "execution_count": null,
   "id": "d2609067",
   "metadata": {},
   "outputs": [],
   "source": [
    "transformer = pyproj.Transformer.from_crs(27700, 4326)\n",
    "\n",
    "# transformer = Transformer.from_crs(4326, 26917)\n",
    "# transformer = Transformer.from_crs(\"EPSG:4326\", \"EPSG:26917\")"
   ]
  },
  {
   "cell_type": "code",
   "execution_count": null,
   "id": "63efa3c0",
   "metadata": {},
   "outputs": [],
   "source": [
    "%%time\n",
    "for _ in range(100):\n",
    "    list(transformer.itransform([(324231, 432525), (324231, 432525)]))"
   ]
  },
  {
   "cell_type": "code",
   "execution_count": null,
   "id": "37b8ba01",
   "metadata": {},
   "outputs": [],
   "source": [
    "%%time\n",
    "for _ in range(100):\n",
    "    transformer.transform(324231, 432525)\n",
    "    transformer.transform(324231, 432525)"
   ]
  },
  {
   "cell_type": "code",
   "execution_count": null,
   "id": "fd31b912",
   "metadata": {},
   "outputs": [],
   "source": [
    "nwp.coords[\"x\"]\n",
    "# y = nwp.coords['y']"
   ]
  },
  {
   "cell_type": "code",
   "execution_count": null,
   "id": "e31cf477",
   "metadata": {},
   "outputs": [],
   "source": [
    "from datetime import datetime"
   ]
  },
  {
   "cell_type": "code",
   "execution_count": null,
   "id": "dc97cf26",
   "metadata": {},
   "outputs": [],
   "source": [
    "%%time\n",
    "nwp.sel(y=1221000, x=-237000, method=\"nearest\").sel(\n",
    "    init_time=datetime(2020, 1, 1)\n",
    ").isel(step=[2, 3])[\"UKV\"]"
   ]
  },
  {
   "cell_type": "code",
   "execution_count": null,
   "id": "3405d1ca",
   "metadata": {},
   "outputs": [],
   "source": [
    "list(nwp.coords[\"variable\"].values)"
   ]
  }
 ],
 "metadata": {
  "kernelspec": {
   "display_name": "Python 3 (ipykernel)",
   "language": "python",
   "name": "python3"
  },
  "language_info": {
   "codemirror_mode": {
    "name": "ipython",
    "version": 3
   },
   "file_extension": ".py",
   "mimetype": "text/x-python",
   "name": "python",
   "nbconvert_exporter": "python",
   "pygments_lexer": "ipython3",
   "version": "3.10.8"
  }
 },
 "nbformat": 4,
 "nbformat_minor": 5
}
