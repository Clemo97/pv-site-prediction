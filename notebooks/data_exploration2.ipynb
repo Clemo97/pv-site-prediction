{
 "cells": [
  {
   "cell_type": "code",
   "execution_count": null,
   "id": "c17f35a1",
   "metadata": {},
   "outputs": [],
   "source": [
    "# We have switch to using xarray, this is why we have a second notebook for data exploration."
   ]
  },
  {
   "cell_type": "code",
   "execution_count": null,
   "id": "1bc657ec",
   "metadata": {},
   "outputs": [],
   "source": [
    "%load_ext autoreload\n",
    "%autoreload 2"
   ]
  },
  {
   "cell_type": "code",
   "execution_count": null,
   "id": "a1c7710b",
   "metadata": {},
   "outputs": [],
   "source": [
    "import datetime\n",
    "import os\n",
    "import pathlib\n",
    "\n",
    "import pandas as pd\n",
    "import altair as alt\n",
    "import numpy as np\n",
    "import xarray as xr\n",
    "\n",
    "import plotly.express as px\n",
    "\n",
    "alt.data_transformers.disable_max_rows()\n",
    "\n",
    "from psp.data.uk_pv import C, trim_pv, filter_rows, get_max_power_for_time_of_day\n",
    "\n",
    "\n",
    "def _(df, *args, **kwargs):\n",
    "    print(len(df))\n",
    "    display(df.head(*args, **kwargs))"
   ]
  },
  {
   "cell_type": "code",
   "execution_count": null,
   "id": "b48a3d7e",
   "metadata": {},
   "outputs": [],
   "source": [
    "# It's always annoying to set the working directory: we use an environment variable defined in the Makefile.\n",
    "CWD = os.environ.get(\"CWD\")\n",
    "if CWD:\n",
    "    os.chdir(CWD)"
   ]
  },
  {
   "cell_type": "code",
   "execution_count": null,
   "id": "0795526a",
   "metadata": {},
   "outputs": [],
   "source": [
    "df = xr.open_dataset(\"data/5min.netcdf\")"
   ]
  },
  {
   "cell_type": "code",
   "execution_count": null,
   "id": "1b41d5f1",
   "metadata": {
    "scrolled": false
   },
   "outputs": [],
   "source": [
    "df"
   ]
  },
  {
   "cell_type": "code",
   "execution_count": null,
   "id": "a6a906d8",
   "metadata": {},
   "outputs": [],
   "source": [
    "%%time\n",
    "x = df.rename_vars({\"generation_wh\": \"power\"}).rename_dims({\"timestamp\": \"ts\", \"ss_id\": \"id\"})\n",
    "for _ in range(100):\n",
    "    x.isel(ts=slice(1, 3), id=slice(1, 3))\n",
    "    # x.isel(timestamp=slice(1, 3), ss_id=slice(1, 3))"
   ]
  },
  {
   "cell_type": "code",
   "execution_count": null,
   "id": "04dc4472",
   "metadata": {},
   "outputs": [],
   "source": [
    "counts = df.groupby_bins(\"timestamp\", bins=4 * 12).count()\n",
    "counts = counts.to_dataframe().reset_index()\n",
    "counts[\"timestamp_bins\"] = counts[\"timestamp_bins\"].apply(lambda x: x.left)"
   ]
  },
  {
   "cell_type": "code",
   "execution_count": null,
   "id": "835b9b9d",
   "metadata": {
    "scrolled": false
   },
   "outputs": [],
   "source": [
    "data = counts.copy()\n",
    "chart = (\n",
    "    alt.Chart(data)\n",
    "    .mark_rect()\n",
    "    .encode(y=C.id + \":O\", x=\"timestamp_bins:O\", color=alt.Color(C.power + \":Q\"))\n",
    ")\n",
    "chart"
   ]
  },
  {
   "cell_type": "code",
   "execution_count": null,
   "id": "63e0e9cc",
   "metadata": {},
   "outputs": [],
   "source": [
    "# rendu ici, faire un histogramme et trouver où couper... meme si on a deja ca qqpart!\n",
    "counts2 = df.count(\"timestamp\")\n",
    "counts2.to_dataframe()"
   ]
  },
  {
   "cell_type": "code",
   "execution_count": null,
   "id": "32113d77",
   "metadata": {
    "scrolled": false
   },
   "outputs": [],
   "source": [
    "data = counts2.to_dataframe().reset_index()\n",
    "chart = alt.Chart(data).mark_bar().encode(y=\"count()\", x=alt.X(C.power, bin=alt.Bin(maxbins=200)))\n",
    "chart"
   ]
  },
  {
   "cell_type": "code",
   "execution_count": null,
   "id": "d2f2dbe1",
   "metadata": {},
   "outputs": [],
   "source": [
    "# ss_ids with too little data\n",
    "data = counts2.to_dataframe().reset_index().copy()\n",
    "_(data)\n",
    "enough_data = data[C.power] > 10000\n",
    "train = data[C.id] < 25000\n",
    "test = data[C.id] > 25000\n",
    "\n",
    "print((train & enough_data).sum())\n",
    "print((test & enough_data).sum())\n",
    "print((~enough_data).sum())\n",
    "print(data[~enough_data][C.id].to_list())"
   ]
  },
  {
   "cell_type": "code",
   "execution_count": null,
   "id": "76d7c933",
   "metadata": {},
   "outputs": [],
   "source": [
    "df\n",
    "df.sel(ss_id=(df[\"ss_id\"] % 10 == 0))"
   ]
  },
  {
   "cell_type": "code",
   "execution_count": null,
   "id": "0add16e2",
   "metadata": {},
   "outputs": [],
   "source": [
    "df.ss_id % 10"
   ]
  },
  {
   "cell_type": "code",
   "execution_count": null,
   "id": "2b6960b0",
   "metadata": {},
   "outputs": [],
   "source": [
    "x = df.sel(\n",
    "    ss_id=7830,\n",
    "    timestamp=slice(datetime.datetime(2020, 1, 1), datetime.datetime(2020, 1, 20)),\n",
    ")\n",
    "x = x.to_dataframe()[[\"generation_wh\"]].reset_index()\n",
    "x = x.resample(\"1H\", on=\"timestamp\").mean()\n",
    "alt.Chart(x.reset_index()).mark_line().encode(x=\"timestamp\", y=\"generation_wh\").properties(\n",
    "    width=800\n",
    ")"
   ]
  },
  {
   "cell_type": "code",
   "execution_count": null,
   "id": "335b750e",
   "metadata": {},
   "outputs": [],
   "source": []
  },
  {
   "cell_type": "code",
   "execution_count": null,
   "id": "77f34b3d",
   "metadata": {},
   "outputs": [],
   "source": []
  },
  {
   "cell_type": "code",
   "execution_count": null,
   "id": "5c509a4c",
   "metadata": {},
   "outputs": [],
   "source": [
    "# coords = x.coords.values()['latitude']\n",
    "coords[\"latitude\"].values"
   ]
  },
  {
   "cell_type": "code",
   "execution_count": null,
   "id": "09e0957f",
   "metadata": {},
   "outputs": [],
   "source": [
    "data = pd.DataFrame(dict(x=x[\"generation_wh\"].data))"
   ]
  },
  {
   "cell_type": "code",
   "execution_count": null,
   "id": "a5c8e94d",
   "metadata": {},
   "outputs": [],
   "source": [
    "da"
   ]
  },
  {
   "cell_type": "code",
   "execution_count": null,
   "id": "f69dae79",
   "metadata": {},
   "outputs": [],
   "source": [
    "from datetime import datetime\n",
    "\n",
    "df.sel(timestamp=slice(datetime(2017, 1, 1), datetime(2017, 1, 2)))[\"generation_wh\"].mean().values"
   ]
  }
 ],
 "metadata": {
  "kernelspec": {
   "display_name": "Python 3 (ipykernel)",
   "language": "python",
   "name": "python3"
  },
  "language_info": {
   "codemirror_mode": {
    "name": "ipython",
    "version": 3
   },
   "file_extension": ".py",
   "mimetype": "text/x-python",
   "name": "python",
   "nbconvert_exporter": "python",
   "pygments_lexer": "ipython3",
   "version": "3.10.8"
  }
 },
 "nbformat": 4,
 "nbformat_minor": 5
}
