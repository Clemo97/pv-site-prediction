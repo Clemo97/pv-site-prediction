{
 "cells": [
  {
   "cell_type": "code",
   "execution_count": null,
   "id": "5b8d3756",
   "metadata": {},
   "outputs": [],
   "source": [
    "# Experimenting with xarray"
   ]
  },
  {
   "cell_type": "code",
   "execution_count": null,
   "id": "c0f133ea",
   "metadata": {},
   "outputs": [],
   "source": [
    "import os\n",
    "from datetime import datetime, timedelta\n",
    "\n",
    "import pandas as pd\n",
    "import xarray as xr"
   ]
  },
  {
   "cell_type": "code",
   "execution_count": null,
   "id": "a9050de5",
   "metadata": {},
   "outputs": [],
   "source": [
    "# It's always annoying to set the working directory: we use an environment variable defined in the Makefile.\n",
    "CWD = os.environ.get(\"CWD\")\n",
    "if CWD:\n",
    "    os.chdir(CWD)"
   ]
  },
  {
   "cell_type": "code",
   "execution_count": null,
   "id": "03c70a7c",
   "metadata": {},
   "outputs": [],
   "source": []
  },
  {
   "cell_type": "code",
   "execution_count": null,
   "id": "158cdb19",
   "metadata": {},
   "outputs": [],
   "source": [
    "ds = xr.open_dataset(\"data/5min_2.netcdf\")"
   ]
  },
  {
   "cell_type": "code",
   "execution_count": null,
   "id": "86877a1a",
   "metadata": {},
   "outputs": [],
   "source": [
    "%%time\n",
    "x = ds.sel(ss_id=8215, timestamp=slice(datetime(2018, 12, 1), datetime(2019, 6, 2)))[\n",
    "    \"generation_wh\"\n",
    "].load()\n",
    "for i in range(100):\n",
    "    date = datetime(2019, 1, 1)\n",
    "    offset = timedelta(minutes=16 * i)\n",
    "    y = x.sel(timestamp=slice(date + offset, date + 2 * offset)).mean().values"
   ]
  },
  {
   "cell_type": "code",
   "execution_count": null,
   "id": "cb79082a",
   "metadata": {},
   "outputs": [],
   "source": []
  },
  {
   "cell_type": "code",
   "execution_count": null,
   "id": "a52fc39b",
   "metadata": {},
   "outputs": [],
   "source": [
    "x = ds.sel(ss_id=27067, timestamp=slice(pd.Timestamp(2020, 1, 1), pd.Timestamp(2020, 1, 1)))"
   ]
  },
  {
   "cell_type": "code",
   "execution_count": null,
   "id": "6dc1f3ca",
   "metadata": {
    "scrolled": false
   },
   "outputs": [],
   "source": [
    "int(x[\"generation_wh\"].count()) == 0"
   ]
  },
  {
   "cell_type": "code",
   "execution_count": null,
   "id": "0f5350ae",
   "metadata": {},
   "outputs": [],
   "source": [
    "x.sel(timestamp=(slice(pd.Timestamp(2020, 1, 1), pd.Timestamp(2121, 1, 1))))"
   ]
  },
  {
   "cell_type": "code",
   "execution_count": null,
   "id": "5d3feb8f",
   "metadata": {},
   "outputs": [],
   "source": []
  }
 ],
 "metadata": {
  "kernelspec": {
   "display_name": "Python 3 (ipykernel)",
   "language": "python",
   "name": "python3"
  },
  "language_info": {
   "codemirror_mode": {
    "name": "ipython",
    "version": 3
   },
   "file_extension": ".py",
   "mimetype": "text/x-python",
   "name": "python",
   "nbconvert_exporter": "python",
   "pygments_lexer": "ipython3",
   "version": "3.10.8"
  }
 },
 "nbformat": 4,
 "nbformat_minor": 5
}
