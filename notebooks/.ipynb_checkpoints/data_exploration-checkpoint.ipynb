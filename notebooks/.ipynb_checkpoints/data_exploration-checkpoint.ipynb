{
 "cells": [
  {
   "cell_type": "code",
   "execution_count": null,
   "id": "e10ce297",
   "metadata": {},
   "outputs": [],
   "source": [
    "%load_ext autoreload\n",
    "%autoreload 2"
   ]
  },
  {
   "cell_type": "code",
   "execution_count": null,
   "id": "e832aac8",
   "metadata": {},
   "outputs": [],
   "source": [
    "import datetime\n",
    "import os\n",
    "import pathlib\n",
    "\n",
    "import pandas as pd\n",
    "import altair as alt\n",
    "\n",
    "import plotly.express as px\n",
    "alt.data_transformers.disable_max_rows()\n",
    "\n",
    "from psp.data import C, trim_pv, filter_rows"
   ]
  },
  {
   "cell_type": "code",
   "execution_count": null,
   "id": "767ab8c9",
   "metadata": {},
   "outputs": [],
   "source": [
    "# It's always annoying to set the working directory: we use an environment variable defined in the Makefile.\n",
    "CWD = os.environ.get('CWD')\n",
    "if CWD:\n",
    "    os.chdir(CWD)"
   ]
  },
  {
   "cell_type": "code",
   "execution_count": null,
   "id": "efcec368",
   "metadata": {},
   "outputs": [],
   "source": [
    "%pwd"
   ]
  },
  {
   "cell_type": "code",
   "execution_count": null,
   "id": "1b359760",
   "metadata": {},
   "outputs": [],
   "source": [
    "df5 = pd.read_parquet('data/5min.parquet')"
   ]
  },
  {
   "cell_type": "code",
   "execution_count": null,
   "id": "b76b092b",
   "metadata": {},
   "outputs": [],
   "source": [
    "# Load already prepared sampled datasets.\n",
    "# See `psp/scripts/simplify_data.py`.\n",
    "dir_ = pathlib.Path('./data/5min')\n",
    "for f in dir_.iterdir():\n",
    "#     print(f.stem)\n",
    "    df = pd.read_parquet(f)\n",
    "    name = 'df5_' + f.stem.replace('5min_', '')\n",
    "    locals()[name] = df\n",
    "#     print(f.stem)\n",
    "    print(f'{name}: {len(df)}')"
   ]
  },
  {
   "cell_type": "code",
   "execution_count": null,
   "id": "bebd9f6d",
   "metadata": {},
   "outputs": [],
   "source": [
    "meta = pd.read_csv('./data/metadata.csv')"
   ]
  },
  {
   "cell_type": "code",
   "execution_count": null,
   "id": "98d6310d",
   "metadata": {},
   "outputs": [],
   "source": [
    "# Number of `ss_id`\n",
    "len(df5['ss_id'].unique())"
   ]
  },
  {
   "cell_type": "code",
   "execution_count": null,
   "id": "ef94e4fe",
   "metadata": {},
   "outputs": [],
   "source": [
    "# Number of data points\n",
    "print(len(df5))"
   ]
  },
  {
   "cell_type": "code",
   "execution_count": null,
   "id": "fd3a1dee",
   "metadata": {
    "scrolled": false
   },
   "outputs": [],
   "source": [
    "data= df5_10k.copy()\n",
    "# data = data.rename(columns={'generation_wh': 'power'})\n",
    "max_ = 100\n",
    "num_bins = 10\n",
    "steps = max_ / num_bins\n",
    "print(steps)\n",
    "display(data.head())\n",
    "(\n",
    "    alt.Chart(data)\n",
    "    .mark_bar()\n",
    "    .encode(\n",
    "    x=alt.X(C.POWER, bin=alt.Bin(extent=[0, max_], step=steps)),\n",
    "    y='count()'\n",
    "    )\n",
    ")"
   ]
  },
  {
   "cell_type": "code",
   "execution_count": null,
   "id": "eb91c3f8",
   "metadata": {
    "scrolled": false
   },
   "outputs": [],
   "source": [
    "data = df5_100_1M.copy()\n",
    "num_bins = 20\n",
    "max_ = 1000\n",
    "(\n",
    "    alt.Chart(data)\n",
    "    .mark_bar().encode(\n",
    "        x=alt.X(C.POWER, bin=alt.Bin(extent=[0, max_], step=max_ // num_bins), title=''),\n",
    "        y=alt.Y('count()', title=''),\n",
    "        facet=alt.Facet(C.ID, columns=16)\n",
    "    )\n",
    "        .resolve_scale(\n",
    "        x='independent',\n",
    "        y='independent',\n",
    "    )\n",
    "\n",
    "    .properties(width=50, height=50)\n",
    ")"
   ]
  },
  {
   "cell_type": "code",
   "execution_count": null,
   "id": "b77984cc",
   "metadata": {
    "scrolled": false
   },
   "outputs": [],
   "source": [
    "# Find some stats for each system.\n",
    "# In particular, find the max power.\n",
    "data = df5_1M[[C.ID, C.POWER]].groupby(C.ID).agg(['mean', 'std', 'max', 'min', 'count'])\n",
    "data.columns = data.columns.get_level_values(1)\n",
    "\n",
    "ss_stats = data\n",
    "ss_stats.head()"
   ]
  },
  {
   "cell_type": "code",
   "execution_count": null,
   "id": "16b2f3e0",
   "metadata": {},
   "outputs": [],
   "source": [
    "data = ss_stats.reset_index()\n",
    "(\n",
    " alt.Chart(data).mark_bar().encode(\n",
    "     y='count()',\n",
    "     x=alt.X('count', bin=alt.Bin(maxbins=100))\n",
    " )\n",
    ")"
   ]
  },
  {
   "cell_type": "code",
   "execution_count": null,
   "id": "9b9bd308",
   "metadata": {
    "scrolled": false
   },
   "outputs": [],
   "source": [
    "data = ss_stats.reset_index()\n",
    "(\n",
    " alt.Chart(data).mark_bar().encode(\n",
    "     y='count()',\n",
    "     x=alt.X('mean', bin=alt.Bin(maxbins=100))\n",
    " )\n",
    ")"
   ]
  },
  {
   "cell_type": "code",
   "execution_count": null,
   "id": "c63bec67",
   "metadata": {
    "scrolled": false
   },
   "outputs": [],
   "source": [
    "data = ss_stats.reset_index()\n",
    "\n",
    "(\n",
    " alt.Chart(data).mark_bar().encode(\n",
    "     y='count()',\n",
    "     x=alt.X('max', bin=alt.Bin(maxbins=100))\n",
    " )\n",
    ")"
   ]
  },
  {
   "cell_type": "code",
   "execution_count": null,
   "id": "38b0d217",
   "metadata": {},
   "outputs": [],
   "source": [
    "data = ss_stats\n",
    "# data['max/mean'] = data['max'] / data['mean']\n",
    "max_mean = 150\n",
    "chart = (alt.Chart(data).mark_point().encode(\n",
    "        x=alt.X('mean', scale=alt.Scale(domain=[0, max_mean], clamp=True)),\n",
    "        y='max'\n",
    "    )\n",
    ")\n",
    "#reg = chart.transform_regression('mean', 'max').mark_line()\n",
    "\n",
    "from sklearn.linear_model import LinearRegression\n",
    "\n",
    "model = LinearRegression(fit_intercept=False)\n",
    "model.fit(data[['mean']], y=data['max'])\n",
    "\n",
    "line_data = pd.DataFrame(dict(x=[0, max_mean]))\n",
    "line_data['y'] = model.predict(line_data[['x']])\n",
    "line_data\n",
    "\n",
    "line = alt.Chart(line_data).mark_line(color='red').encode(x='x', y='y')\n",
    "\n",
    "display(chart + line)\n",
    "print(model.coef_)"
   ]
  },
  {
   "cell_type": "code",
   "execution_count": null,
   "id": "19b8f332",
   "metadata": {},
   "outputs": [],
   "source": [
    "# # Let's use that linear model to compute a capacity for each ss_id.\n",
    "# data = df5_10k\n",
    "# data = data[[C.ID, 'power']].groupby(C.ID).mean()\n",
    "# data['capacity'] = model.coef_[0] * data['power']\n",
    "# data = data.drop(columns='power')\n",
    "\n",
    "# capacities = data\n",
    "# capacities.head()"
   ]
  },
  {
   "cell_type": "code",
   "execution_count": null,
   "id": "69b0f2fe",
   "metadata": {
    "scrolled": false
   },
   "outputs": [],
   "source": [
    "data = df5_100\n",
    "group_days = 14\n",
    "data = (\n",
    "    data[[C.ID, C.DATE, C.POWER]]\n",
    "    .groupby([C.ID, pd.Grouper(freq=f'{group_days}D', key=C.DATE)])\n",
    "    # Sum the power\n",
    "    .sum()\n",
    "    .reset_index()\n",
    ")\n",
    "data['energy'] = data[C.POWER] *  5 / 60 / group_days\n",
    "display(data.head())\n",
    "\n",
    "data[C.DATE ] = pd.to_datetime(data[C.DATE])\n",
    "\n",
    "main = (\n",
    "    alt.Chart(data).mark_line().encode(\n",
    "        x=alt.X(C.DATE, title=''),\n",
    "        y=alt.Y('energy', title=''),\n",
    "        facet=alt.Facet(C.ID, title='', header=alt.Header(title=None, labelFontSize=0), columns=12)\n",
    "    )\n",
    "    .properties(height=30, width=100)\n",
    ")\n",
    "main"
   ]
  },
  {
   "cell_type": "code",
   "execution_count": null,
   "id": "167ff00b",
   "metadata": {
    "scrolled": false
   },
   "outputs": [],
   "source": [
    "data = df5_100.copy()\n",
    "data = filter_rows(data, data[C.POWER] > 0.2)\n",
    "data = filter_rows(data, data[C.DATE].dt.hour > 4)\n",
    "data = filter_rows(data, data[C.DATE].dt.hour < 21)\n",
    "# display(data.head())\n",
    "\n",
    "# Keep one point every ...\n",
    "data = (\n",
    "    data\n",
    "    .groupby([C.ID, pd.Grouper(freq='30min', key=C.DATE)])\n",
    "    # Sum the power\n",
    "    .mean()\n",
    "    .reset_index()\n",
    ")\n",
    "data['day'] = data[C.DATE].dt.dayofyear\n",
    "data.head()\n",
    "\n",
    "# data = data[[C.ID, C.EFF, 'day', 'time']]\n",
    "# data =data[ data['day'] < 5]\n",
    "# data = data[data[C.ID] < 6000]\n",
    "data = data[data[C.DATE].dt.year == 2019]\n",
    "offset = (365 - 50) // 2\n",
    "data = data[ (data['day'] > offset) & (data['day'] <  365 - offset)]\n",
    "display(data.head())\n",
    "\n",
    "# Hack to sort by latitude.\n",
    "data = data.join(meta[[C.ID, C.LAT]].set_index(C.ID), on=C.ID)\n",
    "new_id = data[[C.LAT, C.ID]].apply(lambda row: f'{row[C.LAT]}-{row[C.ID]}', axis=1)\n",
    "data['new_id'] = new_id\n",
    "display(data.head())"
   ]
  },
  {
   "cell_type": "code",
   "execution_count": null,
   "id": "b508c80f",
   "metadata": {
    "scrolled": false
   },
   "outputs": [],
   "source": [
    "main = (\n",
    "    alt.Chart(data).mark_line().encode(\n",
    "        x=alt.X(f'hoursminutes({C.DATE})', title='', axis=None),\n",
    "        y=alt.Y(C.EFF, \n",
    "                title='', axis=None\n",
    "               ),\n",
    "        row=alt.Row('new_id',\n",
    "                    header=alt.Header(title=None, labelFontSize=0),\n",
    "                    title='',\n",
    "                    spacing=-10,\n",
    "                    sort='descending'\n",
    "                   \n",
    "                   ),\n",
    "        column=alt.Column(f'day',\n",
    "                          header=alt.Header(title=None, labelFontSize=0),\n",
    "                          spacing=-10,\n",
    "                         ),\n",
    "    )\n",
    "    .properties(height=10, width=24)\n",
    "   .configure_view(\n",
    "        strokeWidth=0\n",
    "   )\n",
    ")\n",
    "main"
   ]
  }
 ],
 "metadata": {
  "kernelspec": {
   "display_name": "Python 3 (ipykernel)",
   "language": "python",
   "name": "python3"
  },
  "language_info": {
   "codemirror_mode": {
    "name": "ipython",
    "version": 3
   },
   "file_extension": ".py",
   "mimetype": "text/x-python",
   "name": "python",
   "nbconvert_exporter": "python",
   "pygments_lexer": "ipython3",
   "version": "3.10.8"
  }
 },
 "nbformat": 4,
 "nbformat_minor": 5
}
