{
 "cells": [
  {
   "cell_type": "code",
   "execution_count": null,
   "id": "d1940347",
   "metadata": {},
   "outputs": [],
   "source": [
    "# The goal of this notebook is to explore how we can infer a PV's metadata (orientation, tilt, area)\n",
    "# from its power output over some time."
   ]
  },
  {
   "cell_type": "code",
   "execution_count": null,
   "id": "118e7f7f",
   "metadata": {},
   "outputs": [],
   "source": [
    "%load_ext autoreload\n",
    "%autoreload 2"
   ]
  },
  {
   "cell_type": "code",
   "execution_count": null,
   "id": "35f15369",
   "metadata": {},
   "outputs": [],
   "source": [
    "from IPython.display import display, HTML\n",
    "display(HTML(\"<style>.container { width:100% !important; }</style>\"))"
   ]
  },
  {
   "cell_type": "code",
   "execution_count": null,
   "id": "3813328a",
   "metadata": {},
   "outputs": [],
   "source": [
    "import datetime\n",
    "import os\n",
    "import pathlib\n",
    "\n",
    "import numpy as np\n",
    "import pandas as pd\n",
    "\n",
    "import altair as alt\n",
    "alt.data_transformers.disable_max_rows()\n",
    "\n",
    "import plotly.express as px\n",
    "\n",
    "from psp.data import *\n",
    "\n",
    "def _(df, *args, **kwargs):\n",
    "    print(len(df))\n",
    "    display(df.head(*args, **kwargs))\n",
    "    \n",
    "def lvl(df, name):\n",
    "    return df.index.get_level_values(name)"
   ]
  },
  {
   "cell_type": "code",
   "execution_count": null,
   "id": "1a3489b8",
   "metadata": {},
   "outputs": [],
   "source": [
    "# It's always annoying to set the working directory: we use an environment variable defined in the Makefile.\n",
    "CWD = os.environ.get(\"CWD\")\n",
    "if CWD:\n",
    "    os.chdir(CWD)"
   ]
  },
  {
   "cell_type": "code",
   "execution_count": null,
   "id": "cba64033",
   "metadata": {},
   "outputs": [],
   "source": [
    "%pwd"
   ]
  },
  {
   "cell_type": "code",
   "execution_count": null,
   "id": "eb9b4e69",
   "metadata": {},
   "outputs": [],
   "source": [
    "file = 'data/5min_3/5min_all.parquet'\n",
    "#file = 'data/5min/5min_100_10k.parquet'\n",
    "df = pd.read_parquet(file)#[[C.power]]#[[C.power, C.date, C.id]]\n",
    "_(df)"
   ]
  },
  {
   "cell_type": "code",
   "execution_count": null,
   "id": "4408f64f",
   "metadata": {},
   "outputs": [],
   "source": [
    "df = df[[C.power]]"
   ]
  },
  {
   "cell_type": "code",
   "execution_count": null,
   "id": "dfb49f0a",
   "metadata": {},
   "outputs": [],
   "source": [
    "# Filtering, mostly to run faster\n",
    "# df = df[df[C.date].dt.year == 2019]"
   ]
  },
  {
   "cell_type": "code",
   "execution_count": null,
   "id": "df18448c",
   "metadata": {},
   "outputs": [],
   "source": [
    "# df_idx = df.set_index([C.id, C.date], drop=False).sort_index()\n",
    "# _(df_idx)\n",
    "df_idx = df"
   ]
  },
  {
   "cell_type": "code",
   "execution_count": null,
   "id": "2734adc9",
   "metadata": {},
   "outputs": [],
   "source": [
    "meta = pd.read_csv('data/metadata_sensitive.csv')\n",
    "meta = meta.drop(columns='Unnamed: 0')\n",
    "_(meta)"
   ]
  },
  {
   "cell_type": "code",
   "execution_count": null,
   "id": "d5d3257a",
   "metadata": {},
   "outputs": [],
   "source": [
    "meta_idx = meta.set_index(C.id, drop=False)\n",
    "_(meta_idx)"
   ]
  },
  {
   "cell_type": "code",
   "execution_count": null,
   "id": "e1b5448b",
   "metadata": {
    "scrolled": false
   },
   "outputs": [],
   "source": [
    "max_power = get_max_power_for_time_of_day(df_idx[[C.power]], radius=7, min_records=10)\n",
    "max_power[C.id] = lvl(max_power, C.id)\n",
    "max_power[C.date] = lvl(max_power, C.date)\n",
    "_(max_power)"
   ]
  },
  {
   "cell_type": "code",
   "execution_count": null,
   "id": "e50a574b",
   "metadata": {},
   "outputs": [],
   "source": [
    "data = max_power.copy()\n",
    "\n",
    "# Some filtering\n",
    "# Keeping one day per month\n",
    "data=data[data[C.date].dt.day == 1]\n",
    "\n",
    "\n",
    "data = (\n",
    "    data\n",
    "    .reset_index(drop=True)\n",
    "    .groupby(C.id)\n",
    "    .rolling('1h', on=C.date, center=True, min_periods=4, closed='both').mean()\n",
    "    .reset_index()\n",
    "    .set_index([C.id, C.date], drop=False)\n",
    "    .drop(columns='level_1')\n",
    "    .sort_index()\n",
    ")\n",
    "\n",
    "# Keep note of the smooth max power.\n",
    "max_power_smooth = data.copy()\n",
    "_(max_power_smooth)"
   ]
  },
  {
   "cell_type": "code",
   "execution_count": null,
   "id": "b6e7f794",
   "metadata": {
    "scrolled": false
   },
   "outputs": [],
   "source": [
    "\n",
    "\n",
    "# chart = (\n",
    "#     alt.Chart(data.reset_index(drop=True))\n",
    "#     .mark_line()\n",
    "#     .encode(\n",
    "#         x=f'hoursminutes({C.date})',\n",
    "#         y=C.power,\n",
    "#         column=alt.Column(f'yearmonthdate({C.date})')\n",
    "#     ).properties(\n",
    "#         width=100, height=100,\n",
    "#     )\n",
    "# )\n",
    "# display(chart)"
   ]
  },
  {
   "cell_type": "code",
   "execution_count": null,
   "id": "eb311d2e",
   "metadata": {
    "scrolled": false
   },
   "outputs": [],
   "source": [
    "from psp.pv import get_irradiance\n",
    "\n",
    "new_meta = pd.read_csv('new_meta.csv')\n",
    "new_meta = meta.join(new_meta.set_index(C.id), on=C.id, rsuffix='_infered')\n",
    "new_meta = new_meta[~new_meta['capacity'].isnull()]\n",
    "new_meta['diff'] = abs(new_meta['orientation'] - new_meta['orientation_infered'])\n",
    "new_meta = new_meta.sort_values('diff', ascending=False)\n",
    "new_meta = new_meta.set_index(C.id)\n",
    "# _(new_meta)\n",
    "\n",
    "\n",
    "#x = max_power.copy()\n",
    "#x = x[x[C.date].dt.day == 1]\n",
    "\n",
    "for idx in range(len(new_meta)):\n",
    "    ss_id = new_meta.index[idx]\n",
    "    print(f'ss_id: {ss_id}')\n",
    "    \n",
    "    data = df.loc[[ss_id]]\n",
    "    data = get_max_power_for_time_of_day(data, radius=7, min_records=10)\n",
    "    data[C.date] = data.index.get_level_values(1)\n",
    "    \n",
    "    # Some filtering to get a manageable plot.\n",
    "    #data = data[data[C.date].dt.day == 1]\n",
    "    #data = data[data[C.date].dt.month % 3 == 0]\n",
    "    \n",
    "    # Keep n dates.\n",
    "    all_dates = data[C.date]\n",
    "    dates = all_dates[::len(all_dates) // 10].dt.date\n",
    "    \n",
    "    data = data[data[C.date].dt.date.isin(dates)]\n",
    "    \n",
    "#     _(data)\n",
    "    \n",
    "    # Get the `dates` as needed by `get_irradiance`.\n",
    "    dates = lvl(data, C.date)\n",
    "    \n",
    "    row = meta_idx.loc[ss_id]\n",
    "\n",
    "    lat, lon = row[C.lat], row[C.lon]\n",
    "\n",
    "    tilt0 = row['tilt']\n",
    "    orientation0 = row['orientation']\n",
    "\n",
    "    tilt1 = new_meta.loc[ss_id]['tilt_infered']\n",
    "    orientation1 = new_meta.loc[ss_id]['orientation_infered']\n",
    "\n",
    "    import warnings\n",
    "\n",
    "    for tilt, orientation in [\n",
    "#         [tilt0, orientation0],\n",
    "        [tilt1, orientation1]\n",
    "    ]:\n",
    "        print(f'tilt: {tilt}')\n",
    "        print(f'orientation: {orientation}')\n",
    "        with warnings.catch_warnings():\n",
    "            warnings.simplefilter(\"ignore\")\n",
    "            irr = get_irradiance((lat, lon), dates, tilt, orientation)[['poa_global']]\n",
    "            irr /= irr.max()\n",
    "    #         _(data[C.power], 100)\n",
    "            irr['data'] = data[C.power].tolist()\n",
    "            irr['data'] /= irr['data'].quantile(0.99)\n",
    "    #         _(irr, 100)\n",
    "            irr = irr.stack().reset_index(level=1).rename(columns={'level_1': 'measure', 0: 'value'})\n",
    "\n",
    "            chart = (\n",
    "                alt.Chart(irr.reset_index(names=C.date))\n",
    "                .mark_line()\n",
    "                .encode(\n",
    "                    x=f'hoursminutes({C.date})',\n",
    "                    y='value',\n",
    "                    column=alt.Column(f'yearmonthdate({C.date})'),\n",
    "                    color='measure'\n",
    "                ).properties(\n",
    "                    width=100, height=100,\n",
    "                )\n",
    "            )\n",
    "            display(chart)\n",
    "\n",
    "\n",
    "        # Get irradiance data for summer and winter solstice, assuming 25 degree tilt\n",
    "        # and a south facing array\n",
    "        # summer_irradiance = get_irradiance(site, '06-20-2020', 25, 180)\n",
    "        # winter_irradiance = get_irradiance(site, '12-21-2020', 25, 180)"
   ]
  },
  {
   "cell_type": "code",
   "execution_count": null,
   "id": "babf225c",
   "metadata": {
    "scrolled": false
   },
   "outputs": [],
   "source": [
    "import scipy\n",
    "from tqdm.auto import tqdm\n",
    "from psp.pv import get_irradiance\n",
    "from psp.optimisation import grid_bisect_optimise\n",
    "\n",
    "\n",
    "data = max_power_smooth.copy()\n",
    "\n",
    "ss_ids = data[C.id].unique().tolist()\n",
    "\n",
    "rows = []\n",
    "\n",
    "i = 0\n",
    "#print(len(ss_ids))\n",
    "for ss_id in tqdm(ss_ids):\n",
    "#     print(ss_id)\n",
    "    \n",
    "    ref = data[(\n",
    "        data[C.date].dt.day == 1\n",
    "    ) & (\n",
    "        data[C.id] == ss_id\n",
    "    )][C.power].copy()\n",
    "    \n",
    "\n",
    "    dates = lvl(ref, C.date)\n",
    "    meta_row = meta_idx.loc[ss_id]\n",
    "    lat, lon = meta_row[C.lat], meta_row[C.lon]\n",
    "    kwp = meta_row['kwp']\n",
    "    \n",
    "    cap = ref.quantile(0.99)\n",
    "    \n",
    "    rows.append({'cap' :cap, 'kwp': kwp})\n",
    "    continue\n",
    "\n",
    "    def compute_match(tilt, orientation):\n",
    "        irr = get_irradiance((lat, lon), dates, tilt=tilt, orientation=orientation)\n",
    "        values = irr['poa_global']\n",
    "\n",
    "        values = values / values.mean()\n",
    "        ref2 = ref / ref.mean()\n",
    "\n",
    "        return - ((values - ref2) ** 2).mean()\n",
    "    \n",
    "    def compute_match2(params):\n",
    "        return -compute_match(*params)\n",
    "    \n",
    "    print('custom')\n",
    "    params = grid_bisect_optimise(\n",
    "        compute_match,\n",
    "        # Start at tilt=1 to have a different value for the different orientations.\n",
    "        # This helps our naive approach to converge.\n",
    "        dict(tilt=[5, 60], orientation=[5, 355]),\n",
    "        precision=1,\n",
    "        verbose=False,\n",
    "        max_iter=100\n",
    "    )\n",
    "    print(params)\n",
    "    \n",
    "    print('scipy')\n",
    "    result = b\n",
    "    t, o = result.x\n",
    "    print({'tilt': t, 'orientation': o})\n",
    "    \n",
    "    \n",
    "    \n",
    "    # params = grid_bisect_optimise(compute_match, dict(orientation=[0, 360]), precision=5, verbose=True)\n",
    "    #print(params)\n",
    "    \n",
    "    rows.append({\n",
    "        'ss_id': ss_id,\n",
    "        'original_orientation': meta_row['orientation'],\n",
    "        'original_tilt': meta_row['tilt'],\n",
    "        'infered_orientation': params['orientation'],\n",
    "        'infered_tilt': params['tilt'],\n",
    "    })\n",
    "    i += 1\n",
    "\n",
    "\n",
    "    \n",
    "df2 = pd.DataFrame.from_records(rows)\n",
    "_(df2)"
   ]
  },
  {
   "cell_type": "code",
   "execution_count": null,
   "id": "307915c1",
   "metadata": {},
   "outputs": [],
   "source": [
    "df"
   ]
  },
  {
   "cell_type": "code",
   "execution_count": null,
   "id": "e32f82c7",
   "metadata": {},
   "outputs": [],
   "source": [
    "display(alt.Chart(df2).mark_point().encode(\n",
    "    x='kwp',\n",
    "    y='cap',\n",
    "))\n",
    "\n",
    "display(alt.Chart(df2[df2['kwp'] != 4.]).mark_point().encode(\n",
    "    x='kwp',\n",
    "    y='cap',\n",
    "))"
   ]
  },
  {
   "cell_type": "code",
   "execution_count": null,
   "id": "fc48a156",
   "metadata": {},
   "outputs": [],
   "source": [
    "for which in ['orientation', 'tilt']:\n",
    "    data = df[['infered_' + which, 'original_' + which]]\n",
    "    chart = (\n",
    "        alt.Chart(data)\n",
    "        .mark_point()\n",
    "        .encode(\n",
    "            x=alt.X('original_' + which),\n",
    "            y=alt.Y('infered_' + which),\n",
    "        )\n",
    "    )\n",
    "    max_ = data.max().max()\n",
    "    line = (\n",
    "        alt.Chart(pd.DataFrame(dict(x=[0, max_], y=[0, max_])))\n",
    "        .mark_line(color='black')\n",
    "        .encode(x='x', y='y')\n",
    "    )\n",
    "    display(chart + line)"
   ]
  },
  {
   "cell_type": "code",
   "execution_count": null,
   "id": "2014ba17",
   "metadata": {},
   "outputs": [],
   "source": [
    "df['diff'] = abs(df['original_orientation'] - df['infered_orientation'])"
   ]
  },
  {
   "cell_type": "code",
   "execution_count": null,
   "id": "4719758a",
   "metadata": {},
   "outputs": [],
   "source": [
    "df = df.sort_values('diff', ascending=False)\n",
    "df.head(20)"
   ]
  },
  {
   "cell_type": "code",
   "execution_count": null,
   "id": "5c236051",
   "metadata": {},
   "outputs": [],
   "source": [
    "df.describe()"
   ]
  },
  {
   "cell_type": "code",
   "execution_count": null,
   "id": "d0fccf9c",
   "metadata": {},
   "outputs": [],
   "source": [
    "# Test the results after having run a separate script to compute the angles\n",
    "new_meta = pd.read_csv('new_meta.csv')\n",
    "new_meta = meta.join(new_meta.set_index(C.id), on=C.id, rsuffix='_infered')\n",
    "new_meta = new_meta[~new_meta['capacity'].isnull()]\n",
    "_(new_meta)"
   ]
  },
  {
   "cell_type": "code",
   "execution_count": null,
   "id": "9dce09f0",
   "metadata": {
    "scrolled": false
   },
   "outputs": [],
   "source": [
    "for x, y in [\n",
    " ['orientation', 'orientation_infered'],\n",
    " ['tilt', 'tilt_infered'],\n",
    " ['kwp', 'capacity']]:\n",
    "\n",
    "    data = new_meta.copy()\n",
    "\n",
    "    chart = alt.chart = (\n",
    "            alt.Chart(data)\n",
    "            .mark_point()\n",
    "            .encode(\n",
    "                x=x,\n",
    "                y=y\n",
    "            )\n",
    "        )\n",
    "    max_ = data[[x, y]].max().max()\n",
    "    line = (\n",
    "        alt.Chart(pd.DataFrame(dict(x=[0, max_], y=[0, max_])))\n",
    "        .mark_line(color='black')\n",
    "        .encode(x='x', y='y')\n",
    "    )\n",
    "    display(chart + line)"
   ]
  },
  {
   "cell_type": "code",
   "execution_count": null,
   "id": "27611567",
   "metadata": {},
   "outputs": [],
   "source": [
    "new_meta['diff_orientation'] = abs(new_meta['orientation'] - new_meta['orientation_infered'])\n",
    "_(new_meta.sort_values('diff_orientation', ascending=False), 20)"
   ]
  },
  {
   "cell_type": "code",
   "execution_count": null,
   "id": "0df05beb",
   "metadata": {},
   "outputs": [],
   "source": [
    "idx=0\n",
    "\n",
    "new_meta.sort_values('diff_orientation', ascending=False)[idx]\n",
    "data = max_power.copy()"
   ]
  }
 ],
 "metadata": {
  "kernelspec": {
   "display_name": "Python 3 (ipykernel)",
   "language": "python",
   "name": "python3"
  },
  "language_info": {
   "codemirror_mode": {
    "name": "ipython",
    "version": 3
   },
   "file_extension": ".py",
   "mimetype": "text/x-python",
   "name": "python",
   "nbconvert_exporter": "python",
   "pygments_lexer": "ipython3",
   "version": "3.10.8"
  }
 },
 "nbformat": 4,
 "nbformat_minor": 5
}
