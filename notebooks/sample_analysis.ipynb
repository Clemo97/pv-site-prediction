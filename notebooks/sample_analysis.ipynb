{
 "cells": [
  {
   "cell_type": "code",
   "execution_count": null,
   "id": "97a634b1",
   "metadata": {},
   "outputs": [],
   "source": [
    "%load_ext autoreload\n",
    "%autoreload 2"
   ]
  },
  {
   "cell_type": "code",
   "execution_count": null,
   "id": "207613df",
   "metadata": {},
   "outputs": [],
   "source": [
    "import datetime as dt\n",
    "import os\n",
    "import pathlib\n",
    "import importlib\n",
    "\n",
    "import shap\n",
    "import pandas as pd\n",
    "import altair as alt\n",
    "import numpy as np\n",
    "import pvlib\n",
    "from psp.serialization import load_model\n",
    "from psp.data.data_sources.pv import NetcdfPvDataSource\n",
    "from psp.data.data_sources.nwp import NwpDataSource\n",
    "from psp.typings import X\n",
    "from psp.visualization import plot_sample\n",
    "from psp.metrics import mean_absolute_error\n",
    "\n",
    "import plotly.express as px\n",
    "\n",
    "alt.data_transformers.disable_max_rows()\n",
    "\n",
    "\n",
    "def _(df, *args, **kwargs):\n",
    "    print(len(df))\n",
    "    display(df.head(*args, **kwargs))"
   ]
  },
  {
   "cell_type": "code",
   "execution_count": null,
   "id": "1b30ff76",
   "metadata": {},
   "outputs": [],
   "source": [
    "# It's always annoying to set the working directory: we use an environment variable defined in the Makefile.\n",
    "CWD = os.environ.get(\"CWD\")\n",
    "if CWD:\n",
    "    os.chdir(CWD)"
   ]
  },
  {
   "cell_type": "code",
   "execution_count": null,
   "id": "2faad7cf",
   "metadata": {},
   "outputs": [],
   "source": [
    "EXPS = [\n",
    "    \"island-v3\",\n",
    "]"
   ]
  },
  {
   "cell_type": "code",
   "execution_count": null,
   "id": "389f7a42",
   "metadata": {},
   "outputs": [],
   "source": [
    "models = [f\"exp_results/{exp}/model.pkl\" for exp in EXPS]"
   ]
  },
  {
   "cell_type": "code",
   "execution_count": null,
   "id": "ab6dcd00",
   "metadata": {
    "scrolled": false
   },
   "outputs": [],
   "source": [
    "def load_testset(exp, split=\"test\"):\n",
    "    path = f\"exp_results/{exp}/{split}_errors.csv\"\n",
    "    testset = pd.read_csv(path, dtype={\"pv_id\": str}, parse_dates=[\"ts\"])\n",
    "    testset[\"pred_ts\"] = testset[\"ts\"] + pd.to_timedelta(testset[\"horizon\"], unit=\"minute\")\n",
    "    testset[\"exp\"] = exp\n",
    "    return testset\n",
    "\n",
    "\n",
    "testset = pd.concat([load_testset(exp) for exp in EXPS])\n",
    "_(testset)"
   ]
  },
  {
   "cell_type": "code",
   "execution_count": null,
   "id": "8037987b",
   "metadata": {},
   "outputs": [],
   "source": [
    "# Note that we are loading the ground truth from the first config in the case where we have many models.\n",
    "first_exp_config = importlib.import_module(\".config\", f\"exp_results.{EXPS[0]}\").ExpConfig()\n",
    "pv_ds = first_exp_config.get_pv_data_source()"
   ]
  },
  {
   "cell_type": "code",
   "execution_count": null,
   "id": "347bed1d",
   "metadata": {},
   "outputs": [],
   "source": [
    "models = {exp: load_model(model) for exp, model in zip(EXPS, MODELS)}\n",
    "for name, model in models.items():\n",
    "    exp_config = importlib.import_module(\".config\", f\"exp_results.{name}\").ExpConfig()\n",
    "    model.set_data_sources(**exp_config.get_data_source_kwargs())"
   ]
  },
  {
   "cell_type": "code",
   "execution_count": null,
   "id": "4c793b81",
   "metadata": {},
   "outputs": [],
   "source": [
    "testset = testset.sort_values(\"error\", ascending=False)"
   ]
  },
  {
   "cell_type": "code",
   "execution_count": null,
   "id": "da5911d9",
   "metadata": {},
   "outputs": [],
   "source": [
    "_(testset, 20)"
   ]
  },
  {
   "cell_type": "code",
   "execution_count": null,
   "id": "5a4f6316",
   "metadata": {
    "scrolled": false
   },
   "outputs": [],
   "source": [
    "SAMPLE_IDX = -200\n",
    "\n",
    "from psp.visualization import find_horizon_index\n",
    "import shap\n",
    "\n",
    "shap.initjs()\n",
    "\n",
    "test_row = testset[\n",
    "    (testset[\"horizon\"] < 60 * 12) & (testset[\"y\"] > 0.1) & (testset[\"pv_id\"] != \"7759\")\n",
    "].iloc[SAMPLE_IDX]\n",
    "\n",
    "print(\"test row\")\n",
    "print(test_row)\n",
    "print()\n",
    "row = dict(test_row)\n",
    "ts = row[\"ts\"]\n",
    "# horizon_idx = 0\n",
    "horizon = test_row[\"horizon\"]\n",
    "\n",
    "# print(horizon_idx)\n",
    "# horizon_idx = 10 * 60 // 15\n",
    "pv_id = row[\"pv_id\"]\n",
    "\n",
    "# Tweak the sample\n",
    "# ts = ts + dt.timedelta(days=2)\n",
    "# horizon_idx = 24 * 4\n",
    "# horizon = 60 * 7\n",
    "# Hack the sample\n",
    "# pv_id = '27000'\n",
    "# ts = dt.datetime(2021, 7, 31, 12, 30)\n",
    "# ts= row['ts'] + dt.timedelta(days=9.5) + dt.timedelta(minutes=60)\n",
    "# horizon_idx = 0\n",
    "\n",
    "horizon_idx = find_horizon_index(horizon, model.config.horizons)\n",
    "\n",
    "plot_sample(\n",
    "    x=X(pv_id=pv_id, ts=ts),\n",
    "    horizon_idx=horizon_idx,\n",
    "    models=models,\n",
    "    pv_data_source=pv_ds,\n",
    "    nwp_data_source=nwp_ds,\n",
    "    #     meta=meta,\n",
    ")"
   ]
  },
  {
   "cell_type": "code",
   "execution_count": null,
   "id": "b754b39e",
   "metadata": {
    "scrolled": false
   },
   "outputs": [],
   "source": [
    "xs = [X(pv_id=row[\"pv_id\"], ts=row[\"ts\"]) for _, row in testset.sample(20).iterrows()]\n",
    "\n",
    "for model_name, model in models.items():\n",
    "    print(model_name)\n",
    "    explanations = [model.explain(x) for x in xs]\n",
    "    explanation = sum(explanations) / len(explanations)\n",
    "\n",
    "    display(shap.plots.bar(explanation))"
   ]
  }
 ],
 "metadata": {
  "kernelspec": {
   "display_name": "Python 3 (ipykernel)",
   "language": "python",
   "name": "python3"
  },
  "language_info": {
   "codemirror_mode": {
    "name": "ipython",
    "version": 3
   },
   "file_extension": ".py",
   "mimetype": "text/x-python",
   "name": "python",
   "nbconvert_exporter": "python",
   "pygments_lexer": "ipython3",
   "version": "3.10.8"
  }
 },
 "nbformat": 4,
 "nbformat_minor": 5
}
