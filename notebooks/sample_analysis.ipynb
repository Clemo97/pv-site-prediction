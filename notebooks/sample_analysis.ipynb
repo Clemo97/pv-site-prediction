{
 "cells": [
  {
   "cell_type": "code",
   "execution_count": null,
   "id": "86a84c35",
   "metadata": {},
   "outputs": [],
   "source": [
    "# Sample analysis for the RecentHistory model\n",
    "# TODO: Could we remove the recent-history specific stuff?"
   ]
  },
  {
   "cell_type": "code",
   "execution_count": null,
   "id": "97a634b1",
   "metadata": {},
   "outputs": [],
   "source": [
    "%load_ext autoreload\n",
    "%autoreload 2"
   ]
  },
  {
   "cell_type": "code",
   "execution_count": null,
   "id": "207613df",
   "metadata": {},
   "outputs": [],
   "source": [
    "import datetime as dt\n",
    "import os\n",
    "import pathlib\n",
    "\n",
    "import shap\n",
    "import pandas as pd\n",
    "import altair as alt\n",
    "import numpy as np\n",
    "import pvlib\n",
    "from psp.serialization import load_model\n",
    "from psp.data.data_sources.pv import NetcdfPvDataSource\n",
    "from psp.data.data_sources.nwp import NwpDataSource\n",
    "from psp.typings import X\n",
    "from psp.visualization import plot_sample\n",
    "from psp.metrics import mean_absolute_error\n",
    "\n",
    "# TODO This should not be specific to the RecentHistory model\n",
    "from psp.models.recent_history import SetupConfig\n",
    "\n",
    "import plotly.express as px\n",
    "\n",
    "alt.data_transformers.disable_max_rows()\n",
    "\n",
    "\n",
    "def _(df, *args, **kwargs):\n",
    "    print(len(df))\n",
    "    display(df.head(*args, **kwargs))"
   ]
  },
  {
   "cell_type": "code",
   "execution_count": null,
   "id": "1b30ff76",
   "metadata": {},
   "outputs": [],
   "source": [
    "# It's always annoying to set the working directory: we use an environment variable defined in the Makefile.\n",
    "CWD = os.environ.get(\"CWD\")\n",
    "if CWD:\n",
    "    os.chdir(CWD)"
   ]
  },
  {
   "cell_type": "code",
   "execution_count": null,
   "id": "638336cc",
   "metadata": {},
   "outputs": [],
   "source": [
    "%pwd"
   ]
  },
  {
   "cell_type": "code",
   "execution_count": null,
   "id": "2faad7cf",
   "metadata": {},
   "outputs": [],
   "source": [
    "EXP = \"deleteme\"\n",
    "MODEL = f\"exp_results/{EXP}/model.pkl\"\n",
    "TESTSET = f\"exp_results/{EXP}/errors.csv\"\n",
    "PV_DATA = \"data/5min.netcdf\"\n",
    "NWP_DATA = (\n",
    "    \"gs://solar-pv-nowcasting-data/NWP/UK_Met_Office/UKV_intermediate_version_3.zarr\"\n",
    ")\n",
    "META = \"data/metadata_sensitive.csv\"\n",
    "META_INFERRED = \"data/meta_inferred.csv\""
   ]
  },
  {
   "cell_type": "code",
   "execution_count": null,
   "id": "ab6dcd00",
   "metadata": {},
   "outputs": [],
   "source": [
    "testset = pd.read_csv(TESTSET, dtype={\"pv_id\": str}, parse_dates=[\"ts\"])\n",
    "testset[\"pred_ts\"] = testset[\"ts\"] + pd.to_timedelta(testset[\"horizon\"], unit=\"minute\")\n",
    "_(testset)\n",
    "# print(testset.dtypes)"
   ]
  },
  {
   "cell_type": "code",
   "execution_count": null,
   "id": "58e77ae7",
   "metadata": {},
   "outputs": [],
   "source": [
    "pv_ds = NetcdfPvDataSource(PV_DATA)\n",
    "nwp_ds = NwpDataSource(NWP_DATA)"
   ]
  },
  {
   "cell_type": "code",
   "execution_count": null,
   "id": "347bed1d",
   "metadata": {},
   "outputs": [],
   "source": [
    "model = load_model(MODEL)\n",
    "model.setup(SetupConfig(pv_data_source=pv_ds, nwp_data_source=nwp_ds))"
   ]
  },
  {
   "cell_type": "code",
   "execution_count": null,
   "id": "d5fb5793",
   "metadata": {
    "scrolled": false
   },
   "outputs": [],
   "source": [
    "meta = pd.read_csv(META, dtype={\"ss_id\": str}).set_index(\"ss_id\")\n",
    "meta_inferred = pd.read_csv(META_INFERRED, dtype={\"ss_id\": str}).set_index(\"ss_id\")\n",
    "_(meta)\n",
    "_(meta_inferred)"
   ]
  },
  {
   "cell_type": "code",
   "execution_count": null,
   "id": "4c793b81",
   "metadata": {},
   "outputs": [],
   "source": [
    "testset = testset.sort_values(\"error\", ascending=False)"
   ]
  },
  {
   "cell_type": "code",
   "execution_count": null,
   "id": "da5911d9",
   "metadata": {},
   "outputs": [],
   "source": [
    "_(testset, 20)"
   ]
  },
  {
   "cell_type": "code",
   "execution_count": null,
   "id": "344dfc98",
   "metadata": {
    "scrolled": false
   },
   "outputs": [],
   "source": [
    "from psp.visualization import find_horizon_index\n",
    "import shap\n",
    "\n",
    "shap.initjs()\n",
    "\n",
    "test_row = testset[(testset[\"horizon\"] < 60 * 24.0) & (testset[\"y\"] > 10)].iloc[30]\n",
    "print(\"test row\")\n",
    "print(test_row)\n",
    "print()\n",
    "row = dict(test_row)\n",
    "ts = row[\"ts\"]\n",
    "horizon_idx = find_horizon_index(row[\"horizon\"], model.config.horizons)\n",
    "# horizon_idx = 10 * 60 // 15\n",
    "pv_id = row[\"pv_id\"]\n",
    "\n",
    "# Tweak the sample\n",
    "# ts = ts + dt.timedelta(days=30 * 6 + 7)\n",
    "# horizon_idx = 10\n",
    "\n",
    "# Hack the sample\n",
    "# pv_id = '27000'\n",
    "# ts = dt.datetime(2021, 7, 31, 12, 30)\n",
    "# ts= row['ts'] + dt.timedelta(days=9.5) + dt.timedelta(minutes=60)\n",
    "# horizon_idx = 0\n",
    "\n",
    "plot_sample(\n",
    "    x=X(pv_id=pv_id, ts=ts),\n",
    "    horizon_idx=horizon_idx,\n",
    "    model=model,\n",
    "    pv_data_source=pv_ds,\n",
    "    nwp_data_source=nwp_ds,\n",
    "    meta=meta,\n",
    "    do_nwp=False,\n",
    ")"
   ]
  }
 ],
 "metadata": {
  "kernelspec": {
   "display_name": "Python 3 (ipykernel)",
   "language": "python",
   "name": "python3"
  },
  "language_info": {
   "codemirror_mode": {
    "name": "ipython",
    "version": 3
   },
   "file_extension": ".py",
   "mimetype": "text/x-python",
   "name": "python",
   "nbconvert_exporter": "python",
   "pygments_lexer": "ipython3",
   "version": "3.10.8"
  }
 },
 "nbformat": 4,
 "nbformat_minor": 5
}
