{
 "cells": [
  {
   "cell_type": "code",
   "execution_count": null,
   "id": "4a3aa599",
   "metadata": {},
   "outputs": [],
   "source": [
    "# This notebook lets you look at the decision trees inside a PvSiteModel\n",
    "# when using a compatible tree or tree ensemble."
   ]
  },
  {
   "cell_type": "code",
   "execution_count": null,
   "id": "a4596de1",
   "metadata": {},
   "outputs": [],
   "source": [
    "%load_ext autoreload\n",
    "%autoreload 2"
   ]
  },
  {
   "cell_type": "code",
   "execution_count": null,
   "id": "866b31fb",
   "metadata": {},
   "outputs": [],
   "source": [
    "# It's always annoying to set the working directory: we use an environment variable defined in the Makefile.\n",
    "import os\n",
    "\n",
    "CWD = os.environ.get(\"CWD\")\n",
    "if CWD:\n",
    "    os.chdir(CWD)"
   ]
  },
  {
   "cell_type": "code",
   "execution_count": null,
   "id": "5d1ef189",
   "metadata": {},
   "outputs": [],
   "source": [
    "from IPython.display import display, HTML\n",
    "\n",
    "display(HTML(\"<style>.container { width:100% !important; }</style>\"))"
   ]
  },
  {
   "cell_type": "code",
   "execution_count": null,
   "id": "59df3a44",
   "metadata": {},
   "outputs": [],
   "source": [
    "import datetime as dt\n",
    "from pprint import pprint\n",
    "\n",
    "import logging\n",
    "\n",
    "logging.getLogger(\"matplotlib.font_manager\").setLevel(level=logging.CRITICAL)\n",
    "\n",
    "import numpy as np\n",
    "import dtreeviz\n",
    "\n",
    "from psp.data.data_sources.pv import NetcdfPvDataSource\n",
    "from psp.data.data_sources.nwp import NwpDataSource\n",
    "from psp.serialization import load_model\n",
    "from psp.models.recent_history import SetupConfig\n",
    "from psp.training import make_data_loader\n",
    "from psp.dataset import split_train_test\n",
    "from psp.utils.batches import batch_features\n",
    "from psp.typings import X"
   ]
  },
  {
   "cell_type": "code",
   "execution_count": null,
   "id": "9ce41e02",
   "metadata": {},
   "outputs": [],
   "source": [
    "MODEL_NAME = \"exp-name\"\n",
    "PV_DATA = \"data/5min.netcdf\"\n",
    "NWP_DATA = \"gs://solar-pv-nowcasting-data/NWP/UK_Met_Office/UKV_intermediate_version_3.zarr\""
   ]
  },
  {
   "cell_type": "code",
   "execution_count": null,
   "id": "4c65d8a9",
   "metadata": {},
   "outputs": [],
   "source": [
    "pv_ds = pv_ds = NetcdfPvDataSource(PV_DATA)\n",
    "nwp_ds = NwpDataSource(NWP_DATA)"
   ]
  },
  {
   "cell_type": "code",
   "execution_count": null,
   "id": "3b07743c",
   "metadata": {},
   "outputs": [],
   "source": [
    "model = load_model(f\"exp_results/{MODEL_NAME}/model.pkl\")\n",
    "model.setup(SetupConfig(pv_data_source=pv_ds, nwp_data_source=nwp_ds))"
   ]
  },
  {
   "cell_type": "code",
   "execution_count": null,
   "id": "6e0e3f67",
   "metadata": {},
   "outputs": [],
   "source": [
    "splits = split_train_test(pv_ds)\n",
    "\n",
    "\n",
    "def get_features(x):\n",
    "    features = model.get_features(x)\n",
    "    features = model._regressor._prepare_features(batch_features([features]))\n",
    "    return features\n",
    "\n",
    "\n",
    "data_loader = make_data_loader(\n",
    "    data_source=pv_ds,\n",
    "    horizons=model.config.horizons,\n",
    "    split=splits.test,\n",
    "    get_features=get_features,\n",
    "    random_state=np.random.RandomState(1234),\n",
    "    num_workers=0,\n",
    "    shuffle=True,\n",
    "    step=15,\n",
    "    limit=16,\n",
    ")\n",
    "test_set = list(data_loader)"
   ]
  },
  {
   "cell_type": "code",
   "execution_count": null,
   "id": "5ae81fda",
   "metadata": {},
   "outputs": [],
   "source": [
    "def get_feature_names():\n",
    "    features, names = model.get_features_with_names(X(pv_id=\"2881\", ts=dt.datetime(2020, 1, 1)))\n",
    "    _, names = model._regressor._prepare_features(batch_features([features]), names)\n",
    "    return names\n",
    "\n",
    "\n",
    "feature_names = get_feature_names()"
   ]
  },
  {
   "cell_type": "code",
   "execution_count": null,
   "id": "86b583e5",
   "metadata": {},
   "outputs": [],
   "source": [
    "features = np.vstack([s.features for s in test_set])\n",
    "targets = np.stack(s.y.powers for s in test_set).reshape(-1)\n",
    "# print(features.shape)\n",
    "# print(targets.shape)\n",
    "# pprint(feature_names)"
   ]
  },
  {
   "cell_type": "code",
   "execution_count": null,
   "id": "c9aa9669",
   "metadata": {
    "scrolled": false
   },
   "outputs": [],
   "source": [
    "TREE_IDX = 0\n",
    "SAMPLE_IDX = 0\n",
    "\n",
    "x = features[SAMPLE_IDX]\n",
    "y = targets[SAMPLE_IDX]\n",
    "\n",
    "print(y)\n",
    "pprint(list(zip(feature_names, x)))\n",
    "\n",
    "viz_model = dtreeviz.model(\n",
    "    model._regressor._regressor,\n",
    "    tree_index=TREE_IDX,\n",
    "    X_train=features,\n",
    "    y_train=targets,\n",
    "    feature_names=feature_names,\n",
    "    target_name=\"y\",\n",
    ")\n",
    "\n",
    "\n",
    "display(\n",
    "    viz_model.view(\n",
    "        scale=1.5,\n",
    "        orientation=\"LR\",\n",
    "        fancy=False,\n",
    "        x=x,\n",
    "        #     depth_range_to_display=(0, 2)\n",
    "    )\n",
    ")\n",
    "print(viz_model.explain_prediction_path(x=x))"
   ]
  }
 ],
 "metadata": {
  "kernelspec": {
   "display_name": "Python 3 (ipykernel)",
   "language": "python",
   "name": "python3"
  },
  "language_info": {
   "codemirror_mode": {
    "name": "ipython",
    "version": 3
   },
   "file_extension": ".py",
   "mimetype": "text/x-python",
   "name": "python",
   "nbconvert_exporter": "python",
   "pygments_lexer": "ipython3",
   "version": "3.10.8"
  }
 },
 "nbformat": 4,
 "nbformat_minor": 5
}
